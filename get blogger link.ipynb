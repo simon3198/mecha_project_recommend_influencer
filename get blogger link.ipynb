{
 "cells": [
  {
   "cell_type": "code",
   "execution_count": 4,
   "metadata": {},
   "outputs": [
    {
     "data": {
      "text/html": [
       "<div>\n",
       "<style scoped>\n",
       "    .dataframe tbody tr th:only-of-type {\n",
       "        vertical-align: middle;\n",
       "    }\n",
       "\n",
       "    .dataframe tbody tr th {\n",
       "        vertical-align: top;\n",
       "    }\n",
       "\n",
       "    .dataframe thead th {\n",
       "        text-align: right;\n",
       "    }\n",
       "</style>\n",
       "<table border=\"1\" class=\"dataframe\">\n",
       "  <thead>\n",
       "    <tr style=\"text-align: right;\">\n",
       "      <th></th>\n",
       "      <th>Link</th>\n",
       "      <th>Title</th>\n",
       "    </tr>\n",
       "  </thead>\n",
       "  <tbody>\n",
       "    <tr>\n",
       "      <th>0</th>\n",
       "      <td>https://blog.naver.com/goeun061133?Redirect=Lo...</td>\n",
       "      <td>충남당진가볼만한곳삽교호관광지함상공원</td>\n",
       "    </tr>\n",
       "    <tr>\n",
       "      <th>1</th>\n",
       "      <td>https://blog.naver.com/goeun061133?Redirect=Lo...</td>\n",
       "      <td>소파사이드테이블탑오브강화천연석거실테이블</td>\n",
       "    </tr>\n",
       "    <tr>\n",
       "      <th>2</th>\n",
       "      <td>https://blog.naver.com/goeun061133?Redirect=Lo...</td>\n",
       "      <td>전남여행지추천곡성섬진강기차마을생태학습관</td>\n",
       "    </tr>\n",
       "    <tr>\n",
       "      <th>3</th>\n",
       "      <td>https://blog.naver.com/goeun061133?Redirect=Lo...</td>\n",
       "      <td>국내가족여행전북가볼만한곳남원춘향테마파크</td>\n",
       "    </tr>\n",
       "    <tr>\n",
       "      <th>4</th>\n",
       "      <td>https://blog.naver.com/goeun061133?Redirect=Lo...</td>\n",
       "      <td>당진여행한진포구오션뷰숙소호텔로씨오</td>\n",
       "    </tr>\n",
       "    <tr>\n",
       "      <th>...</th>\n",
       "      <td>...</td>\n",
       "      <td>...</td>\n",
       "    </tr>\n",
       "    <tr>\n",
       "      <th>4053</th>\n",
       "      <td>https://blog.naver.com/goeun061133?Redirect=Lo...</td>\n",
       "      <td>신선하고푸짐한통영굴택배~88수산생굴.</td>\n",
       "    </tr>\n",
       "    <tr>\n",
       "      <th>4054</th>\n",
       "      <td>https://blog.naver.com/goeun061133?Redirect=Lo...</td>\n",
       "      <td>572.19개월아기요미요미쿠키만들기수업.</td>\n",
       "    </tr>\n",
       "    <tr>\n",
       "      <th>4055</th>\n",
       "      <td>https://blog.naver.com/goeun061133?Redirect=Lo...</td>\n",
       "      <td>강동구한정식,명일동맛집토담</td>\n",
       "    </tr>\n",
       "    <tr>\n",
       "      <th>4056</th>\n",
       "      <td>https://blog.naver.com/goeun061133?Redirect=Lo...</td>\n",
       "      <td>어린이대공원동물원친구들도페도라유모차추천해요.</td>\n",
       "    </tr>\n",
       "    <tr>\n",
       "      <th>4057</th>\n",
       "      <td>https://blog.naver.com/goeun061133?Redirect=Lo...</td>\n",
       "      <td>571.새해복많이받으세요</td>\n",
       "    </tr>\n",
       "  </tbody>\n",
       "</table>\n",
       "<p>4058 rows × 2 columns</p>\n",
       "</div>"
      ],
      "text/plain": [
       "                                                   Link  \\\n",
       "0     https://blog.naver.com/goeun061133?Redirect=Lo...   \n",
       "1     https://blog.naver.com/goeun061133?Redirect=Lo...   \n",
       "2     https://blog.naver.com/goeun061133?Redirect=Lo...   \n",
       "3     https://blog.naver.com/goeun061133?Redirect=Lo...   \n",
       "4     https://blog.naver.com/goeun061133?Redirect=Lo...   \n",
       "...                                                 ...   \n",
       "4053  https://blog.naver.com/goeun061133?Redirect=Lo...   \n",
       "4054  https://blog.naver.com/goeun061133?Redirect=Lo...   \n",
       "4055  https://blog.naver.com/goeun061133?Redirect=Lo...   \n",
       "4056  https://blog.naver.com/goeun061133?Redirect=Lo...   \n",
       "4057  https://blog.naver.com/goeun061133?Redirect=Lo...   \n",
       "\n",
       "                         Title  \n",
       "0          충남당진가볼만한곳삽교호관광지함상공원  \n",
       "1        소파사이드테이블탑오브강화천연석거실테이블  \n",
       "2        전남여행지추천곡성섬진강기차마을생태학습관  \n",
       "3        국내가족여행전북가볼만한곳남원춘향테마파크  \n",
       "4           당진여행한진포구오션뷰숙소호텔로씨오  \n",
       "...                        ...  \n",
       "4053      신선하고푸짐한통영굴택배~88수산생굴.  \n",
       "4054    572.19개월아기요미요미쿠키만들기수업.  \n",
       "4055            강동구한정식,명일동맛집토담  \n",
       "4056  어린이대공원동물원친구들도페도라유모차추천해요.  \n",
       "4057             571.새해복많이받으세요  \n",
       "\n",
       "[4058 rows x 2 columns]"
      ]
     },
     "execution_count": 4,
     "metadata": {},
     "output_type": "execute_result"
    }
   ],
   "source": [
    "item_list = ['보석십자수', '미니어처', '펀치 니들', '3d펜', '3d프린터', '가죽공예', '가방 만들기', '양모펠트', '프랑스 자수', '스크래치 북','LED조명', '무드등', '칼림바', '오르골', '발난로', '우산', '캡슐 세제','전자저울', '산소포화도 측정기', '소음 측정기', '거리 측정기', '온습도계', '적외선 온도계', '높이 측정기', '타이머', '유수분 측정기','아두이노', '라즈베리 파이', '마이크로 비트','휴대용선풍기','스피커','디퓨저','기저귀','파우치','운동화','청소세제','로봇청소기','전동칫솔','수납박스','청소포','에어프라이어','거북목베개','컵홀더','공기청정기','진공청소기','자외선차단제','섬유유연제','가습기','마우스패드']\n",
    "import pandas as pd\n",
    "data = pd.read_csv('blogger all post/goeun061133.csv',index_col=0)\n",
    "data"
   ]
  },
  {
   "cell_type": "code",
   "execution_count": 20,
   "metadata": {},
   "outputs": [
    {
     "data": {
      "text/html": [
       "<div>\n",
       "<style scoped>\n",
       "    .dataframe tbody tr th:only-of-type {\n",
       "        vertical-align: middle;\n",
       "    }\n",
       "\n",
       "    .dataframe tbody tr th {\n",
       "        vertical-align: top;\n",
       "    }\n",
       "\n",
       "    .dataframe thead th {\n",
       "        text-align: right;\n",
       "    }\n",
       "</style>\n",
       "<table border=\"1\" class=\"dataframe\">\n",
       "  <thead>\n",
       "    <tr style=\"text-align: right;\">\n",
       "      <th></th>\n",
       "      <th>Link</th>\n",
       "      <th>Title</th>\n",
       "    </tr>\n",
       "  </thead>\n",
       "  <tbody>\n",
       "    <tr>\n",
       "      <th>1565</th>\n",
       "      <td>https://blog.naver.com/goeun061133?Redirect=Lo...</td>\n",
       "      <td>스마트폰고속무선충전마우스패드HABBSI</td>\n",
       "    </tr>\n",
       "    <tr>\n",
       "      <th>1749</th>\n",
       "      <td>https://blog.naver.com/goeun061133?Redirect=Lo...</td>\n",
       "      <td>무선충전마우스패드아틀란틱트래블기어스마트폰무선충전기</td>\n",
       "    </tr>\n",
       "  </tbody>\n",
       "</table>\n",
       "</div>"
      ],
      "text/plain": [
       "                                                   Link  \\\n",
       "1565  https://blog.naver.com/goeun061133?Redirect=Lo...   \n",
       "1749  https://blog.naver.com/goeun061133?Redirect=Lo...   \n",
       "\n",
       "                            Title  \n",
       "1565        스마트폰고속무선충전마우스패드HABBSI  \n",
       "1749  무선충전마우스패드아틀란틱트래블기어스마트폰무선충전기  "
      ]
     },
     "execution_count": 20,
     "metadata": {},
     "output_type": "execute_result"
    }
   ],
   "source": [
    "for item in item_list:\n",
    "    item = item.replace(' ','')\n",
    "    item_bool = data['Title'].apply(lambda x: item in x)\n",
    "    if item == '보석십자수':\n",
    "        item_df=data[item_bool]\n",
    "    else:\n",
    "        item_df.append(data[item_bool])\n",
    "    item_df=data[item_bool]\n",
    "    # final_df = final_df.join(pd.Series(list(item_df['Link'])).rename(item), how='right')"
   ]
  },
  {
   "cell_type": "code",
   "execution_count": 18,
   "metadata": {},
   "outputs": [
    {
     "data": {
      "text/html": [
       "<div>\n",
       "<style scoped>\n",
       "    .dataframe tbody tr th:only-of-type {\n",
       "        vertical-align: middle;\n",
       "    }\n",
       "\n",
       "    .dataframe tbody tr th {\n",
       "        vertical-align: top;\n",
       "    }\n",
       "\n",
       "    .dataframe thead th {\n",
       "        text-align: right;\n",
       "    }\n",
       "</style>\n",
       "<table border=\"1\" class=\"dataframe\">\n",
       "  <thead>\n",
       "    <tr style=\"text-align: right;\">\n",
       "      <th></th>\n",
       "      <th>Link</th>\n",
       "      <th>Title</th>\n",
       "    </tr>\n",
       "  </thead>\n",
       "  <tbody>\n",
       "  </tbody>\n",
       "</table>\n",
       "</div>"
      ],
      "text/plain": [
       "Empty DataFrame\n",
       "Columns: [Link, Title]\n",
       "Index: []"
      ]
     },
     "execution_count": 18,
     "metadata": {},
     "output_type": "execute_result"
    }
   ],
   "source": [
    "item_df"
   ]
  },
  {
   "cell_type": "code",
   "execution_count": null,
   "metadata": {},
   "outputs": [],
   "source": []
  }
 ],
 "metadata": {
  "interpreter": {
   "hash": "6d46af94c2bbce495f1e668725902fa517c90b1782bcfe2fce0dd9868df553d3"
  },
  "kernelspec": {
   "display_name": "Python 3.8.8 64-bit ('base': conda)",
   "language": "python",
   "name": "python3"
  },
  "language_info": {
   "codemirror_mode": {
    "name": "ipython",
    "version": 3
   },
   "file_extension": ".py",
   "mimetype": "text/x-python",
   "name": "python",
   "nbconvert_exporter": "python",
   "pygments_lexer": "ipython3",
   "version": "3.8.8"
  },
  "orig_nbformat": 4
 },
 "nbformat": 4,
 "nbformat_minor": 2
}
