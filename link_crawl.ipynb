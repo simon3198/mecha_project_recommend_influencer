{
 "cells": [
  {
   "cell_type": "code",
   "execution_count": 2,
   "metadata": {},
   "outputs": [
    {
     "name": "stdout",
     "output_type": "stream",
     "text": [
      "1/69"
     ]
    },
    {
     "ename": "TypeError",
     "evalue": "'>' not supported between instances of 'str' and 'int'",
     "output_type": "error",
     "traceback": [
      "\u001b[1;31m---------------------------------------------------------------------------\u001b[0m",
      "\u001b[1;31mTypeError\u001b[0m                                 Traceback (most recent call last)",
      "\u001b[1;32m<ipython-input-2-9fa7e21298f0>\u001b[0m in \u001b[0;36m<module>\u001b[1;34m\u001b[0m\n\u001b[0;32m     74\u001b[0m ]\n\u001b[0;32m     75\u001b[0m \u001b[0mcrawler\u001b[0m \u001b[1;33m=\u001b[0m \u001b[0mNaverBlogCrawler\u001b[0m\u001b[1;33m(\u001b[0m\u001b[0m_blog_url_list\u001b[0m \u001b[1;33m=\u001b[0m \u001b[0mlink_list\u001b[0m\u001b[1;33m)\u001b[0m\u001b[1;33m\u001b[0m\u001b[1;33m\u001b[0m\u001b[0m\n\u001b[1;32m---> 76\u001b[1;33m \u001b[0mdf\u001b[0m \u001b[1;33m=\u001b[0m \u001b[0mcrawler\u001b[0m\u001b[1;33m.\u001b[0m\u001b[0mgetPostDataFrame_blogUrls\u001b[0m\u001b[1;33m(\u001b[0m\u001b[1;33m)\u001b[0m\u001b[1;33m\u001b[0m\u001b[1;33m\u001b[0m\u001b[0m\n\u001b[0m",
      "\u001b[1;32mc:\\Users\\user\\Desktop\\메카솔루션\\깃허브\\mecha_project_\\mecha_project\\Naver_Blog_Crawler.py\u001b[0m in \u001b[0;36mgetPostDataFrame_blogUrls\u001b[1;34m(self)\u001b[0m\n\u001b[0;32m    247\u001b[0m \u001b[1;33m\u001b[0m\u001b[0m\n\u001b[0;32m    248\u001b[0m             \u001b[1;31m#           댓글 내용\u001b[0m\u001b[1;33m\u001b[0m\u001b[1;33m\u001b[0m\u001b[1;33m\u001b[0m\u001b[0m\n\u001b[1;32m--> 249\u001b[1;33m             \u001b[1;32mif\u001b[0m \u001b[0mint\u001b[0m\u001b[1;33m(\u001b[0m\u001b[0mcomment_num\u001b[0m\u001b[1;33m)\u001b[0m \u001b[1;33m>\u001b[0m \u001b[1;36m0\u001b[0m\u001b[1;33m:\u001b[0m\u001b[1;33m\u001b[0m\u001b[1;33m\u001b[0m\u001b[0m\n\u001b[0m\u001b[0;32m    250\u001b[0m                 \u001b[0mcomment_detail\u001b[0m \u001b[1;33m=\u001b[0m \u001b[0mself\u001b[0m\u001b[1;33m.\u001b[0m\u001b[0mgetCommentDetail\u001b[0m\u001b[1;33m(\u001b[0m\u001b[0mnick_name\u001b[0m\u001b[1;33m,\u001b[0m\u001b[0mpost_detail\u001b[0m\u001b[1;33m)\u001b[0m\u001b[1;33m\u001b[0m\u001b[1;33m\u001b[0m\u001b[0m\n\u001b[0;32m    251\u001b[0m             \u001b[1;32melse\u001b[0m\u001b[1;33m:\u001b[0m\u001b[1;33m\u001b[0m\u001b[1;33m\u001b[0m\u001b[0m\n",
      "\u001b[1;31mTypeError\u001b[0m: '>' not supported between instances of 'str' and 'int'"
     ]
    }
   ],
   "source": [
    "import pandas as pd\n",
    "from Naver_Blog_Crawler import NaverBlogCrawler\n",
    "\n",
    "link_list =[\n",
    "'https://blog.naver.com/ya824ya/222419720925'\n",
    ",'https://blog.naver.com/puhahoho/222425963413'\n",
    ",'https://blog.naver.com/hyeji925/222420626924'\n",
    ",'https://blog.naver.com/hhh050908/222428089925'\n",
    ",'https://blog.naver.com/lovesin03/222426779945'\n",
    ",'https://blog.naver.com/avvvv3/222426268736'\n",
    ",'https://blog.naver.com/tnwls670/222416843046'\n",
    ",'https://blog.naver.com/thrkfl61/222427371766'\n",
    ",'https://blog.naver.com/ahapc1004/222421845946'\n",
    ",'https://blog.naver.com/cyaflower/222415917108'\n",
    ",'https://blog.naver.com/sylove7100/222505774660'\n",
    ",'https://blog.naver.com/sein1008/222505652105'\n",
    ",'https://blog.naver.com/cyber3578/222504213827'\n",
    ",'https://blog.naver.com/maras09/222505681921'\n",
    ",'https://blog.naver.com/gangsso/222504705194'\n",
    ",'https://blog.naver.com/zymeen/222505689157'\n",
    ",'https://blog.naver.com/duadlswk90/222505392964'\n",
    ",'https://blog.naver.com/acewinner82/222506277653'\n",
    ",'https://blog.naver.com/uki02/222497251758'\n",
    ",'https://blog.naver.com/hyehun15/222500798684'\n",
    ",'https://blog.naver.com/parkchw333/222503625419'\n",
    ",'https://blog.naver.com/lillijy00/222496685734'\n",
    ",'https://blog.naver.com/leemonpai/222505841586'\n",
    ",'https://blog.naver.com/clamsh/222498445352'\n",
    ",'https://blog.naver.com/dannyelf/222501309072'\n",
    ",'https://blog.naver.com/chssha86/222501696750'\n",
    ",'https://blog.naver.com/lorenak/222499561063'\n",
    ",'https://blog.naver.com/zoo0987/222503679359'\n",
    ",'https://blog.naver.com/hananyo/222497206180'\n",
    ",'https://blog.naver.com/borather/222505655421'\n",
    ",'https://blog.naver.com/yule2908298/222446408938'\n",
    ",'https://blog.naver.com/tbtb--8282/222442748924'\n",
    ",'https://blog.naver.com/genie1224_/222447922984'\n",
    ",'https://blog.naver.com/kimsessm/222440749895'\n",
    ",'https://blog.naver.com/dbsgml1324/222441166423'\n",
    ",'https://blog.naver.com/red-head/222447882098'\n",
    ",'https://blog.naver.com/happyandante/222447814075'\n",
    ",'https://blog.naver.com/sin_a88/222438810055'\n",
    ",'https://blog.naver.com/arm_ing/222447566850'\n",
    ",'https://blog.naver.com/hyein_hi7/222447863045'\n",
    ",'https://blog.naver.com/oia_87/222416211008'\n",
    ",'https://blog.naver.com/kwija99/222410071120'\n",
    ",'https://blog.naver.com/goeun061133/222414029672'\n",
    ",'https://blog.naver.com/jjw3493/222411687993'\n",
    ",'https://blog.naver.com/kkskyg0514/222418167782'\n",
    ",'https://blog.naver.com/frankly8567/222410280596'\n",
    ",'https://blog.naver.com/yaki07/222416917352'\n",
    ",'https://blog.naver.com/tjxowl007/222413884701'\n",
    ",'https://blog.naver.com/duswn87102/222418048140'\n",
    ",'https://blog.naver.com/hwan64288/222418200049'\n",
    ",'https://blog.naver.com/hoona000/222567995994'\n",
    ",'https://blog.naver.com/dkflsk78/222565550909'\n",
    ",'https://blog.naver.com/diacl82/222568001019'\n",
    ",'https://blog.naver.com/ssainpens/222568074684'\n",
    ",'https://blog.naver.com/hjungeun27/222566570245'\n",
    ",'https://blog.naver.com/dpfladl10/222563036734'\n",
    ",'https://blog.naver.com/ceao_o/222559745216'\n",
    ",'https://blog.naver.com/malahalo/222570383384'\n",
    ",'https://blog.naver.com/andoo7/222561835524'\n",
    ",'https://blog.naver.com/nyang2ne/222565710657'\n",
    ",'https://blog.naver.com/iseogo/222566562158'\n",
    ",'https://blog.naver.com/gfewa/222568095607'\n",
    ",'https://blog.naver.com/rnwnfud/222565876215'\n",
    ",'https://blog.naver.com/cutei77/222564864963'\n",
    ",'https://blog.naver.com/wayhelter/222568173186'\n",
    ",'http://blog.naver.com/ssodooi/222567112814'\n",
    ",'https://blog.naver.com/foodgarden/222567632461'\n",
    ",'https://blog.naver.com/2626001_/222564338851'\n",
    ",'https://blog.naver.com/csar/222567331243'\n",
    "]\n",
    "crawler = NaverBlogCrawler(_blog_url_list = link_list)\n",
    "df = crawler.getPostDataFrame_blogUrls()"
   ]
  },
  {
   "cell_type": "code",
   "execution_count": null,
   "metadata": {},
   "outputs": [],
   "source": []
  }
 ],
 "metadata": {
  "interpreter": {
   "hash": "6d46af94c2bbce495f1e668725902fa517c90b1782bcfe2fce0dd9868df553d3"
  },
  "kernelspec": {
   "display_name": "Python 3.8.8 64-bit ('base': conda)",
   "language": "python",
   "name": "python3"
  },
  "language_info": {
   "codemirror_mode": {
    "name": "ipython",
    "version": 3
   },
   "file_extension": ".py",
   "mimetype": "text/x-python",
   "name": "python",
   "nbconvert_exporter": "python",
   "pygments_lexer": "ipython3",
   "version": "3.8.8"
  },
  "orig_nbformat": 4
 },
 "nbformat": 4,
 "nbformat_minor": 2
}
