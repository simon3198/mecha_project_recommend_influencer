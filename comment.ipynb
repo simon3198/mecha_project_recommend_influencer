{
 "cells": [
  {
   "cell_type": "code",
   "execution_count": 1,
   "metadata": {},
   "outputs": [
    {
     "data": {
      "text/html": [
       "<div>\n",
       "<style scoped>\n",
       "    .dataframe tbody tr th:only-of-type {\n",
       "        vertical-align: middle;\n",
       "    }\n",
       "\n",
       "    .dataframe tbody tr th {\n",
       "        vertical-align: top;\n",
       "    }\n",
       "\n",
       "    .dataframe thead th {\n",
       "        text-align: right;\n",
       "    }\n",
       "</style>\n",
       "<table border=\"1\" class=\"dataframe\">\n",
       "  <thead>\n",
       "    <tr style=\"text-align: right;\">\n",
       "      <th></th>\n",
       "      <th>Link</th>\n",
       "      <th>Title</th>\n",
       "    </tr>\n",
       "  </thead>\n",
       "  <tbody>\n",
       "    <tr>\n",
       "      <th>0</th>\n",
       "      <td>https://blog.naver.com/ghj9301?Redirect=Log&amp;lo...</td>\n",
       "      <td>개방적인이슬람국가.jpg</td>\n",
       "    </tr>\n",
       "    <tr>\n",
       "      <th>1</th>\n",
       "      <td>https://blog.naver.com/ghj9301?Redirect=Log&amp;lo...</td>\n",
       "      <td>요즘군대신형보급품.jpg</td>\n",
       "    </tr>\n",
       "    <tr>\n",
       "      <th>2</th>\n",
       "      <td>https://blog.naver.com/ghj9301?Redirect=Log&amp;lo...</td>\n",
       "      <td>일본에서등장한&amp;#39;도한놀이&amp;#39;.jpg</td>\n",
       "    </tr>\n",
       "    <tr>\n",
       "      <th>3</th>\n",
       "      <td>https://blog.naver.com/ghj9301?Redirect=Log&amp;lo...</td>\n",
       "      <td>도쿄올림픽의지붕없는중계석.jpg</td>\n",
       "    </tr>\n",
       "    <tr>\n",
       "      <th>4</th>\n",
       "      <td>https://blog.naver.com/ghj9301?Redirect=Log&amp;lo...</td>\n",
       "      <td>마인크래프트하다가들킨아들.jpg</td>\n",
       "    </tr>\n",
       "    <tr>\n",
       "      <th>...</th>\n",
       "      <td>...</td>\n",
       "      <td>...</td>\n",
       "    </tr>\n",
       "    <tr>\n",
       "      <th>19608</th>\n",
       "      <td>https://blog.naver.com/ghj9301?Redirect=Log&amp;lo...</td>\n",
       "      <td>리치는조용히살고싶다.1.리치와평화</td>\n",
       "    </tr>\n",
       "    <tr>\n",
       "      <th>19609</th>\n",
       "      <td>https://blog.naver.com/ghj9301?Redirect=Log&amp;lo...</td>\n",
       "      <td>악역영애~잘안됩니다.36.왜제가긴장하는건가요……?</td>\n",
       "    </tr>\n",
       "    <tr>\n",
       "      <th>19610</th>\n",
       "      <td>https://blog.naver.com/ghj9301?Redirect=Log&amp;lo...</td>\n",
       "      <td>리치는조용히살고싶다</td>\n",
       "    </tr>\n",
       "    <tr>\n",
       "      <th>19611</th>\n",
       "      <td>https://blog.naver.com/ghj9301?Redirect=Log&amp;lo...</td>\n",
       "      <td>악역영애~잘안됩니다.35.이벤트가일어날예감</td>\n",
       "    </tr>\n",
       "    <tr>\n",
       "      <th>19612</th>\n",
       "      <td>https://blog.naver.com/ghj9301?Redirect=Log&amp;lo...</td>\n",
       "      <td>전생해서,&amp;quot;싸우는메이드~스리야가41.다시,동쪽시장에서3</td>\n",
       "    </tr>\n",
       "  </tbody>\n",
       "</table>\n",
       "<p>19613 rows × 2 columns</p>\n",
       "</div>"
      ],
      "text/plain": [
       "                                                    Link  \\\n",
       "0      https://blog.naver.com/ghj9301?Redirect=Log&lo...   \n",
       "1      https://blog.naver.com/ghj9301?Redirect=Log&lo...   \n",
       "2      https://blog.naver.com/ghj9301?Redirect=Log&lo...   \n",
       "3      https://blog.naver.com/ghj9301?Redirect=Log&lo...   \n",
       "4      https://blog.naver.com/ghj9301?Redirect=Log&lo...   \n",
       "...                                                  ...   \n",
       "19608  https://blog.naver.com/ghj9301?Redirect=Log&lo...   \n",
       "19609  https://blog.naver.com/ghj9301?Redirect=Log&lo...   \n",
       "19610  https://blog.naver.com/ghj9301?Redirect=Log&lo...   \n",
       "19611  https://blog.naver.com/ghj9301?Redirect=Log&lo...   \n",
       "19612  https://blog.naver.com/ghj9301?Redirect=Log&lo...   \n",
       "\n",
       "                                     Title  \n",
       "0                            개방적인이슬람국가.jpg  \n",
       "1                            요즘군대신형보급품.jpg  \n",
       "2                일본에서등장한&#39;도한놀이&#39;.jpg  \n",
       "3                        도쿄올림픽의지붕없는중계석.jpg  \n",
       "4                        마인크래프트하다가들킨아들.jpg  \n",
       "...                                    ...  \n",
       "19608                   리치는조용히살고싶다.1.리치와평화  \n",
       "19609          악역영애~잘안됩니다.36.왜제가긴장하는건가요……?  \n",
       "19610                           리치는조용히살고싶다  \n",
       "19611              악역영애~잘안됩니다.35.이벤트가일어날예감  \n",
       "19612  전생해서,&quot;싸우는메이드~스리야가41.다시,동쪽시장에서3  \n",
       "\n",
       "[19613 rows x 2 columns]"
      ]
     },
     "execution_count": 1,
     "metadata": {},
     "output_type": "execute_result"
    }
   ],
   "source": [
    "import pandas as pd\n",
    "data = pd.read_csv('crawler/csvfile/보석십자수2022-01-15.csv',index_col=0)\n",
    "data"
   ]
  },
  {
   "cell_type": "code",
   "execution_count": 7,
   "metadata": {},
   "outputs": [
    {
     "data": {
      "text/plain": [
       "0      ['크리스마스 트리가 필요없네요요 작품 하나만으로도 꽉채운 분위기 입니다 ~^^',...\n",
       "1                                                      0\n",
       "2      ['시간잘가고 재밌어요 ㅎ 코로나땜에 집콕하는 요즘 시간보내기 👍', '격하게 공감...\n",
       "3      ['와 신짱님 진짜 잘 하셨네요! 이거 친구들이 하길래 궁금했는데 생각보다 퀄리티가...\n",
       "4                                                      0\n",
       "                             ...                        \n",
       "918                                                    0\n",
       "919                                                    0\n",
       "920                                                    0\n",
       "921                                                    0\n",
       "922                                                    0\n",
       "Name: Comment detail, Length: 923, dtype: object"
      ]
     },
     "execution_count": 7,
     "metadata": {},
     "output_type": "execute_result"
    }
   ],
   "source": [
    "data['Comment detail']"
   ]
  },
  {
   "cell_type": "code",
   "execution_count": 38,
   "metadata": {},
   "outputs": [
    {
     "name": "stdout",
     "output_type": "stream",
     "text": [
      "3463\n"
     ]
    }
   ],
   "source": [
    "import ast\n",
    "\n",
    "comment_list=[]\n",
    "\n",
    "for detail in data['Comment detail']:\n",
    "    if detail == '0':\n",
    "        continue\n",
    "    a = ast.literal_eval(detail)\n",
    "    for i in a:\n",
    "        if i =='':\n",
    "            continue\n",
    "        comment_list.append(i)\n",
    "print(len(comment_list))"
   ]
  },
  {
   "cell_type": "code",
   "execution_count": 39,
   "metadata": {},
   "outputs": [
    {
     "name": "stdout",
     "output_type": "stream",
     "text": [
      "6319\n"
     ]
    }
   ],
   "source": [
    "data = pd.read_csv('crawler/csvfile/캠슐세제2022-01-15.csv',index_col=0)\n",
    "for detail in data['Comment detail']:\n",
    "    if detail == '0':\n",
    "        continue\n",
    "    a = ast.literal_eval(detail)\n",
    "    for i in a:\n",
    "        if i =='':\n",
    "            continue\n",
    "        comment_list.append(i)\n",
    "print(len(comment_list))"
   ]
  },
  {
   "cell_type": "code",
   "execution_count": 40,
   "metadata": {},
   "outputs": [
    {
     "name": "stdout",
     "output_type": "stream",
     "text": [
      "12182\n"
     ]
    }
   ],
   "source": [
    "data = pd.read_csv('crawler/csvfile/DIY2022-01-15.csv',index_col=0)\n",
    "for detail in data['Comment detail']:\n",
    "    if detail == '0':\n",
    "        continue\n",
    "    a = ast.literal_eval(detail)\n",
    "    for i in a:\n",
    "        if i =='':\n",
    "            continue\n",
    "        comment_list.append(i)\n",
    "print(len(comment_list))"
   ]
  },
  {
   "cell_type": "code",
   "execution_count": 41,
   "metadata": {},
   "outputs": [
    {
     "name": "stdout",
     "output_type": "stream",
     "text": [
      "15645\n"
     ]
    }
   ],
   "source": [
    "data = pd.read_csv('crawler/csvfile/미니어처2022-01-15.csv',index_col=0)\n",
    "for detail in data['Comment detail']:\n",
    "    if detail == '0':\n",
    "        continue\n",
    "    a = ast.literal_eval(detail)\n",
    "    for i in a:\n",
    "        if i =='':\n",
    "            continue\n",
    "        comment_list.append(i)\n",
    "print(len(comment_list))"
   ]
  },
  {
   "cell_type": "code",
   "execution_count": 42,
   "metadata": {},
   "outputs": [
    {
     "name": "stdout",
     "output_type": "stream",
     "text": [
      "                                                       0\n",
      "0      와~ 이렇게 모아보니까 진짜 완전 연말결산이에요!! 너무 멋있어요 선생님^^ 돈 안...\n",
      "1                          작품하나하나 정성이 가득하네요.. 멋진작품들이에요..\n",
      "2      와와!! 이렇게 다 모아두니까 진짜 엄청난거 같아요/// 너무 신기하게도 처음 본 ...\n",
      "3      매번 예쁜 돌하우스 너무 잘 보고 있습니다.일년에 한번은 고마움을 표시해야 할것 같...\n",
      "4      저야말로 감사드려요 가뭄에 콩나듯 포스팅해도 늘 좋게 봐주셔서요 내년엔 좀 더 많이...\n",
      "...                                                  ...\n",
      "15640                              정이품송, 세조길 ~가보고 싶네요~^^\n",
      "15641  룸박스가 생각보다 작지않네요?인형집은 무언가 꽉차 있어야 더 그럴듯하더라구요.심플하...\n",
      "15642  이 룸박스는 미니어처라 저 인형들이 들어갈 수 없어서 합성 프로그램을 사용했어요 ~...\n",
      "15643                           아. 그렇네요.근대 말씀 안하심 몰랐을거에요\n",
      "15644  아 그렇군요 요즘은 기술이 좋아서 포토샵 기술을 쓰지 않아도 앱으로 간단하게 편집이...\n",
      "\n",
      "[15645 rows x 1 columns]\n"
     ]
    }
   ],
   "source": [
    "df = pd.DataFrame(comment_list)\n",
    "print(df)"
   ]
  },
  {
   "cell_type": "code",
   "execution_count": 44,
   "metadata": {},
   "outputs": [],
   "source": [
    "df.to_csv('commentlist.csv')"
   ]
  },
  {
   "cell_type": "code",
   "execution_count": 45,
   "metadata": {},
   "outputs": [
    {
     "data": {
      "text/html": [
       "<div>\n",
       "<style scoped>\n",
       "    .dataframe tbody tr th:only-of-type {\n",
       "        vertical-align: middle;\n",
       "    }\n",
       "\n",
       "    .dataframe tbody tr th {\n",
       "        vertical-align: top;\n",
       "    }\n",
       "\n",
       "    .dataframe thead th {\n",
       "        text-align: right;\n",
       "    }\n",
       "</style>\n",
       "<table border=\"1\" class=\"dataframe\">\n",
       "  <thead>\n",
       "    <tr style=\"text-align: right;\">\n",
       "      <th></th>\n",
       "      <th>0</th>\n",
       "    </tr>\n",
       "  </thead>\n",
       "  <tbody>\n",
       "    <tr>\n",
       "      <th>0</th>\n",
       "      <td>와~ 이렇게 모아보니까 진짜 완전 연말결산이에요!! 너무 멋있어요 선생님^^ 돈 안...</td>\n",
       "    </tr>\n",
       "    <tr>\n",
       "      <th>1</th>\n",
       "      <td>작품하나하나 정성이 가득하네요.. 멋진작품들이에요..</td>\n",
       "    </tr>\n",
       "    <tr>\n",
       "      <th>2</th>\n",
       "      <td>와와!! 이렇게 다 모아두니까 진짜 엄청난거 같아요/// 너무 신기하게도 처음 본 ...</td>\n",
       "    </tr>\n",
       "    <tr>\n",
       "      <th>3</th>\n",
       "      <td>매번 예쁜 돌하우스 너무 잘 보고 있습니다.일년에 한번은 고마움을 표시해야 할것 같...</td>\n",
       "    </tr>\n",
       "    <tr>\n",
       "      <th>4</th>\n",
       "      <td>저야말로 감사드려요 가뭄에 콩나듯 포스팅해도 늘 좋게 봐주셔서요 내년엔 좀 더 많이...</td>\n",
       "    </tr>\n",
       "    <tr>\n",
       "      <th>...</th>\n",
       "      <td>...</td>\n",
       "    </tr>\n",
       "    <tr>\n",
       "      <th>15640</th>\n",
       "      <td>정이품송, 세조길 ~가보고 싶네요~^^</td>\n",
       "    </tr>\n",
       "    <tr>\n",
       "      <th>15641</th>\n",
       "      <td>룸박스가 생각보다 작지않네요?인형집은 무언가 꽉차 있어야 더 그럴듯하더라구요.심플하...</td>\n",
       "    </tr>\n",
       "    <tr>\n",
       "      <th>15642</th>\n",
       "      <td>이 룸박스는 미니어처라 저 인형들이 들어갈 수 없어서 합성 프로그램을 사용했어요 ~...</td>\n",
       "    </tr>\n",
       "    <tr>\n",
       "      <th>15643</th>\n",
       "      <td>아. 그렇네요.근대 말씀 안하심 몰랐을거에요</td>\n",
       "    </tr>\n",
       "    <tr>\n",
       "      <th>15644</th>\n",
       "      <td>아 그렇군요 요즘은 기술이 좋아서 포토샵 기술을 쓰지 않아도 앱으로 간단하게 편집이...</td>\n",
       "    </tr>\n",
       "  </tbody>\n",
       "</table>\n",
       "<p>15645 rows × 1 columns</p>\n",
       "</div>"
      ],
      "text/plain": [
       "                                                       0\n",
       "0      와~ 이렇게 모아보니까 진짜 완전 연말결산이에요!! 너무 멋있어요 선생님^^ 돈 안...\n",
       "1                          작품하나하나 정성이 가득하네요.. 멋진작품들이에요..\n",
       "2      와와!! 이렇게 다 모아두니까 진짜 엄청난거 같아요/// 너무 신기하게도 처음 본 ...\n",
       "3      매번 예쁜 돌하우스 너무 잘 보고 있습니다.일년에 한번은 고마움을 표시해야 할것 같...\n",
       "4      저야말로 감사드려요 가뭄에 콩나듯 포스팅해도 늘 좋게 봐주셔서요 내년엔 좀 더 많이...\n",
       "...                                                  ...\n",
       "15640                              정이품송, 세조길 ~가보고 싶네요~^^\n",
       "15641  룸박스가 생각보다 작지않네요?인형집은 무언가 꽉차 있어야 더 그럴듯하더라구요.심플하...\n",
       "15642  이 룸박스는 미니어처라 저 인형들이 들어갈 수 없어서 합성 프로그램을 사용했어요 ~...\n",
       "15643                           아. 그렇네요.근대 말씀 안하심 몰랐을거에요\n",
       "15644  아 그렇군요 요즘은 기술이 좋아서 포토샵 기술을 쓰지 않아도 앱으로 간단하게 편집이...\n",
       "\n",
       "[15645 rows x 1 columns]"
      ]
     },
     "execution_count": 45,
     "metadata": {},
     "output_type": "execute_result"
    }
   ],
   "source": [
    "df"
   ]
  },
  {
   "cell_type": "code",
   "execution_count": null,
   "metadata": {},
   "outputs": [],
   "source": []
  }
 ],
 "metadata": {
  "interpreter": {
   "hash": "6d46af94c2bbce495f1e668725902fa517c90b1782bcfe2fce0dd9868df553d3"
  },
  "kernelspec": {
   "display_name": "Python 3.8.8 64-bit ('base': conda)",
   "language": "python",
   "name": "python3"
  },
  "language_info": {
   "codemirror_mode": {
    "name": "ipython",
    "version": 3
   },
   "file_extension": ".py",
   "mimetype": "text/x-python",
   "name": "python",
   "nbconvert_exporter": "python",
   "pygments_lexer": "ipython3",
   "version": "3.8.8"
  },
  "orig_nbformat": 4
 },
 "nbformat": 4,
 "nbformat_minor": 2
}
