{
 "cells": [
  {
   "cell_type": "code",
   "execution_count": 6,
   "source": [
    "from selenium import webdriver\r\n",
    "from selenium.webdriver.remote.webelement import WebElement\r\n",
    "from selenium.webdriver.common.by import By\r\n",
    "from selenium.webdriver.support.ui import WebDriverWait\r\n",
    "from selenium.webdriver.support import expected_conditions as EC\r\n",
    "from selenium.common.exceptions import StaleElementReferenceException, TimeoutException\r\n",
    "from selenium.webdriver.chrome.options import Options\r\n",
    "from selenium.webdriver.common.by import By\r\n",
    "import pandas as pd\r\n",
    "from datetime import date\r\n",
    "import time"
   ],
   "outputs": [],
   "metadata": {}
  },
  {
   "cell_type": "code",
   "execution_count": 7,
   "source": [
    "link= 'https://report.revu.net/service/campaigns/422541'\r\n",
    "\r\n",
    "options = Options()\r\n",
    "options.page_load_strategy = 'normal'\r\n",
    "driver = webdriver.Chrome(options=options)\r\n",
    "driver.get(link)\r\n",
    "driver.implicitly_wait(10)\r\n",
    "# wait=WebDriverWait(driver,5)"
   ],
   "outputs": [],
   "metadata": {}
  },
  {
   "cell_type": "code",
   "execution_count": 8,
   "source": [
    "from bs4 import BeautifulSoup\r\n",
    "revu_id = 'wc0426@naver.com'\r\n",
    "revu_pswd = 'sysy8659!'\r\n",
    "button = driver.find_elements_by_xpath('//*[@id=\"app\"]/div/div/div[2]/span[1]')\r\n",
    "button[0].click()\r\n",
    "\r\n",
    "login = driver.find_elements_by_css_selector('.form-input')\r\n",
    "login[0].send_keys(revu_id)\r\n",
    "login[1].send_keys(revu_pswd)\r\n",
    "\r\n",
    "login_button = driver.find_element_by_css_selector('.btn.btn-revu')\r\n",
    "login_button.click()\r\n",
    "WebDriverWait(driver, 10).until(EC.presence_of_element_located((By.XPATH,'//*[@id=\"app\"]/div/div/div/div/div[2]')))"
   ],
   "outputs": [
    {
     "output_type": "execute_result",
     "data": {
      "text/plain": [
       "<selenium.webdriver.remote.webelement.WebElement (session=\"8ffddf07d525ce51fce5458285f95c9e\", element=\"e4054b33-d59c-474f-82c1-1a7026f69ceb\")>"
      ]
     },
     "metadata": {},
     "execution_count": 8
    }
   ],
   "metadata": {}
  },
  {
   "cell_type": "code",
   "execution_count": 9,
   "source": [
    "try:\r\n",
    "    notice_close = driver.find_element_by_xpath('//*[@id=\"app\"]/div/div/div/div/div[2]')\r\n",
    "    notice_close.click()\r\n",
    "except:\r\n",
    "    pass\r\n",
    "\r\n",
    "influencer_choice = driver.find_element_by_class_name('client-pick')\r\n",
    "influencer_choice.click()"
   ],
   "outputs": [],
   "metadata": {}
  },
  {
   "cell_type": "code",
   "execution_count": 10,
   "source": [
    "more_button = driver.find_element_by_xpath('//*[@id=\"pick-list\"]/div[3]/span')\r\n",
    "more_button.click()\r\n",
    "print(more_button)"
   ],
   "outputs": [
    {
     "output_type": "stream",
     "name": "stdout",
     "text": [
      "<selenium.webdriver.remote.webelement.WebElement (session=\"8ffddf07d525ce51fce5458285f95c9e\", element=\"d22f90ba-3b8e-448a-9531-24b13b69e777\")>\n"
     ]
    }
   ],
   "metadata": {}
  },
  {
   "cell_type": "code",
   "execution_count": 11,
   "source": [
    "driver.execute_script(\"window.scrollTo(0, document.body.scrollHeight);\")\r\n",
    "num=29\r\n",
    "while True:\r\n",
    "    num+=30\r\n",
    "    try:\r\n",
    "        WebDriverWait(driver, 5).until(EC.presence_of_element_located((By.ID,'requesting_'+str(num))))\r\n",
    "    except:\r\n",
    "        break\r\n",
    "    more_button = driver.find_element_by_xpath('//*[@id=\"pick-list\"]/div[3]/span')\r\n",
    "    more_button.click()"
   ],
   "outputs": [],
   "metadata": {}
  },
  {
   "cell_type": "code",
   "execution_count": 13,
   "source": [
    "import re\r\n",
    "import pandas as pd\r\n",
    "\r\n",
    "blogger_list = driver.find_elements_by_css_selector('.media-title [href]')\r\n",
    "id_list=[]\r\n",
    "num=-1\r\n",
    "for blogger in blogger_list:\r\n",
    "    num+=1\r\n",
    "    temp = blogger.get_attribute('href')\r\n",
    "    try:\r\n",
    "        if 'blog.naver.com' in temp:\r\n",
    "            temp = re.split('/',temp)[-1]\r\n",
    "        else:\r\n",
    "            temp = re.search('ttp://(.+?).blog.me', temp).group(1)\r\n",
    "    except:\r\n",
    "        continue\r\n",
    "    id_list.append(temp)\r\n",
    "\r\n",
    "id_list = pd.DataFrame(id_list)\r\n",
    "id_list.to_csv('revu_id_list.csv')"
   ],
   "outputs": [],
   "metadata": {}
  },
  {
   "cell_type": "code",
   "execution_count": null,
   "source": [],
   "outputs": [],
   "metadata": {}
  }
 ],
 "metadata": {
  "orig_nbformat": 4,
  "language_info": {
   "name": "python",
   "version": "3.8.8",
   "mimetype": "text/x-python",
   "codemirror_mode": {
    "name": "ipython",
    "version": 3
   },
   "pygments_lexer": "ipython3",
   "nbconvert_exporter": "python",
   "file_extension": ".py"
  },
  "kernelspec": {
   "name": "python3",
   "display_name": "Python 3.8.8 64-bit ('base': conda)"
  },
  "interpreter": {
   "hash": "6d46af94c2bbce495f1e668725902fa517c90b1782bcfe2fce0dd9868df553d3"
  }
 },
 "nbformat": 4,
 "nbformat_minor": 2
}