{
 "cells": [
  {
   "cell_type": "code",
   "execution_count": 249,
   "source": [
    "import pandas as pd\r\n",
    "import numpy as np\r\n",
    "import matplotlib.pyplot as plt\r\n",
    "import re\r\n",
    "import urllib.request\r\n",
    "from eunjeon import Mecab\r\n",
    "from tensorflow.keras.preprocessing.text import Tokenizer\r\n",
    "from tensorflow.keras.preprocessing.sequence import pad_sequences"
   ],
   "outputs": [],
   "metadata": {}
  },
  {
   "cell_type": "code",
   "execution_count": 250,
   "source": [
    "csv_name = './test_category'\r\n",
    "train_data = pd.read_csv(csv_name+\".csv\")\r\n",
    "train_data = pd.DataFrame(train_data)\r\n",
    "train_data"
   ],
   "outputs": [
    {
     "output_type": "execute_result",
     "data": {
      "text/plain": [
       "      Unnamed: 0                                               Post  score  \\\n",
       "0              1  취미생활 하고 싶어 꽃친 미니어쳐 집짓기저의 딸래미가 순식간에 뚝딱 집한채 졌답니다...      1   \n",
       "1              2   제목 그대로 입니다화장실  목욕탕  환풍기가 굉음 소리를 내면서 고장이 났네요회전...      2   \n",
       "2              3  학업이나 직장을 위해 얻는 임시 주거지가 되는 자취방 인테리어는 대부분 소규모의 원...      1   \n",
       "3              4  얼마 전 울 집 주방에서 사용하던 인덕션 교체를 하게 되었거든요기존에 사용하던 빌트...      3   \n",
       "4              5  안녕하세요 작은기쁨입니다 오랜만에  포스팅으로 인사드려요역시나 이번에도 캠핑용품 인...      2   \n",
       "...          ...                                                ...    ...   \n",
       "1688        1689  토요일 배송된 보석십자수 택배박스를 개봉하면요렇게 귀여운 박스가 나와요저는 타타를 ...      2   \n",
       "1689        1690  핸드폰 갤러리 보다가 발견한 백수 때 했던 뻘짓들그래도 나름 뿌듯해서 모아봄 글라스...      3   \n",
       "1690        1691       비즈십자수 용그림이에요보석비즈십자수 큐빅 한알한알 박으셔서더 정성스러워요 ...      4   \n",
       "1691        1692    안녕하세요비가 옵니다춥네요이웃님들 모두 감기 걸리지 않게조심하세요 모기도 벌써부...      3   \n",
       "1692        1693    집에 있는 시간이 많아진 요즘무료한 집콕생활을 달래줄 수 있는 취미하나 추천할려...      2   \n",
       "\n",
       "      AD  keyword score  tfidf score      josa      noun  noun/josa  \\\n",
       "0      1       1.691729     3.139594  0.156382  0.295858       1.89   \n",
       "1      1       9.943182     4.473089  0.145722  0.342246       2.35   \n",
       "2      1       3.506098     4.126646  0.186029  0.359909       1.93   \n",
       "3      1       8.307692     2.260273  0.132716  0.368827       2.78   \n",
       "4      0       9.951846     1.985994  0.161049  0.321348       2.00   \n",
       "...   ..            ...          ...       ...       ...        ...   \n",
       "1688   1      10.909091     0.579664  0.143460  0.316456       2.21   \n",
       "1689   1       8.780488     0.631065  0.109865  0.334081       3.04   \n",
       "1690   1      10.714286     2.154564  0.101942  0.427184       4.19   \n",
       "1691   1       9.090909    -1.318872  0.063158  0.294737       4.67   \n",
       "1692   0       1.136364     0.586205  0.110837  0.298030       2.69   \n",
       "\n",
       "      paragraph num  \n",
       "0               525  \n",
       "1               356  \n",
       "2               800  \n",
       "3               599  \n",
       "4               566  \n",
       "...             ...  \n",
       "1688             86  \n",
       "1689            225  \n",
       "1690             53  \n",
       "1691             64  \n",
       "1692            185  \n",
       "\n",
       "[1693 rows x 10 columns]"
      ],
      "text/html": [
       "<div>\n",
       "<style scoped>\n",
       "    .dataframe tbody tr th:only-of-type {\n",
       "        vertical-align: middle;\n",
       "    }\n",
       "\n",
       "    .dataframe tbody tr th {\n",
       "        vertical-align: top;\n",
       "    }\n",
       "\n",
       "    .dataframe thead th {\n",
       "        text-align: right;\n",
       "    }\n",
       "</style>\n",
       "<table border=\"1\" class=\"dataframe\">\n",
       "  <thead>\n",
       "    <tr style=\"text-align: right;\">\n",
       "      <th></th>\n",
       "      <th>Unnamed: 0</th>\n",
       "      <th>Post</th>\n",
       "      <th>score</th>\n",
       "      <th>AD</th>\n",
       "      <th>keyword score</th>\n",
       "      <th>tfidf score</th>\n",
       "      <th>josa</th>\n",
       "      <th>noun</th>\n",
       "      <th>noun/josa</th>\n",
       "      <th>paragraph num</th>\n",
       "    </tr>\n",
       "  </thead>\n",
       "  <tbody>\n",
       "    <tr>\n",
       "      <th>0</th>\n",
       "      <td>1</td>\n",
       "      <td>취미생활 하고 싶어 꽃친 미니어쳐 집짓기저의 딸래미가 순식간에 뚝딱 집한채 졌답니다...</td>\n",
       "      <td>1</td>\n",
       "      <td>1</td>\n",
       "      <td>1.691729</td>\n",
       "      <td>3.139594</td>\n",
       "      <td>0.156382</td>\n",
       "      <td>0.295858</td>\n",
       "      <td>1.89</td>\n",
       "      <td>525</td>\n",
       "    </tr>\n",
       "    <tr>\n",
       "      <th>1</th>\n",
       "      <td>2</td>\n",
       "      <td>제목 그대로 입니다화장실  목욕탕  환풍기가 굉음 소리를 내면서 고장이 났네요회전...</td>\n",
       "      <td>2</td>\n",
       "      <td>1</td>\n",
       "      <td>9.943182</td>\n",
       "      <td>4.473089</td>\n",
       "      <td>0.145722</td>\n",
       "      <td>0.342246</td>\n",
       "      <td>2.35</td>\n",
       "      <td>356</td>\n",
       "    </tr>\n",
       "    <tr>\n",
       "      <th>2</th>\n",
       "      <td>3</td>\n",
       "      <td>학업이나 직장을 위해 얻는 임시 주거지가 되는 자취방 인테리어는 대부분 소규모의 원...</td>\n",
       "      <td>1</td>\n",
       "      <td>1</td>\n",
       "      <td>3.506098</td>\n",
       "      <td>4.126646</td>\n",
       "      <td>0.186029</td>\n",
       "      <td>0.359909</td>\n",
       "      <td>1.93</td>\n",
       "      <td>800</td>\n",
       "    </tr>\n",
       "    <tr>\n",
       "      <th>3</th>\n",
       "      <td>4</td>\n",
       "      <td>얼마 전 울 집 주방에서 사용하던 인덕션 교체를 하게 되었거든요기존에 사용하던 빌트...</td>\n",
       "      <td>3</td>\n",
       "      <td>1</td>\n",
       "      <td>8.307692</td>\n",
       "      <td>2.260273</td>\n",
       "      <td>0.132716</td>\n",
       "      <td>0.368827</td>\n",
       "      <td>2.78</td>\n",
       "      <td>599</td>\n",
       "    </tr>\n",
       "    <tr>\n",
       "      <th>4</th>\n",
       "      <td>5</td>\n",
       "      <td>안녕하세요 작은기쁨입니다 오랜만에  포스팅으로 인사드려요역시나 이번에도 캠핑용품 인...</td>\n",
       "      <td>2</td>\n",
       "      <td>0</td>\n",
       "      <td>9.951846</td>\n",
       "      <td>1.985994</td>\n",
       "      <td>0.161049</td>\n",
       "      <td>0.321348</td>\n",
       "      <td>2.00</td>\n",
       "      <td>566</td>\n",
       "    </tr>\n",
       "    <tr>\n",
       "      <th>...</th>\n",
       "      <td>...</td>\n",
       "      <td>...</td>\n",
       "      <td>...</td>\n",
       "      <td>...</td>\n",
       "      <td>...</td>\n",
       "      <td>...</td>\n",
       "      <td>...</td>\n",
       "      <td>...</td>\n",
       "      <td>...</td>\n",
       "      <td>...</td>\n",
       "    </tr>\n",
       "    <tr>\n",
       "      <th>1688</th>\n",
       "      <td>1689</td>\n",
       "      <td>토요일 배송된 보석십자수 택배박스를 개봉하면요렇게 귀여운 박스가 나와요저는 타타를 ...</td>\n",
       "      <td>2</td>\n",
       "      <td>1</td>\n",
       "      <td>10.909091</td>\n",
       "      <td>0.579664</td>\n",
       "      <td>0.143460</td>\n",
       "      <td>0.316456</td>\n",
       "      <td>2.21</td>\n",
       "      <td>86</td>\n",
       "    </tr>\n",
       "    <tr>\n",
       "      <th>1689</th>\n",
       "      <td>1690</td>\n",
       "      <td>핸드폰 갤러리 보다가 발견한 백수 때 했던 뻘짓들그래도 나름 뿌듯해서 모아봄 글라스...</td>\n",
       "      <td>3</td>\n",
       "      <td>1</td>\n",
       "      <td>8.780488</td>\n",
       "      <td>0.631065</td>\n",
       "      <td>0.109865</td>\n",
       "      <td>0.334081</td>\n",
       "      <td>3.04</td>\n",
       "      <td>225</td>\n",
       "    </tr>\n",
       "    <tr>\n",
       "      <th>1690</th>\n",
       "      <td>1691</td>\n",
       "      <td>비즈십자수 용그림이에요보석비즈십자수 큐빅 한알한알 박으셔서더 정성스러워요 ...</td>\n",
       "      <td>4</td>\n",
       "      <td>1</td>\n",
       "      <td>10.714286</td>\n",
       "      <td>2.154564</td>\n",
       "      <td>0.101942</td>\n",
       "      <td>0.427184</td>\n",
       "      <td>4.19</td>\n",
       "      <td>53</td>\n",
       "    </tr>\n",
       "    <tr>\n",
       "      <th>1691</th>\n",
       "      <td>1692</td>\n",
       "      <td>안녕하세요비가 옵니다춥네요이웃님들 모두 감기 걸리지 않게조심하세요 모기도 벌써부...</td>\n",
       "      <td>3</td>\n",
       "      <td>1</td>\n",
       "      <td>9.090909</td>\n",
       "      <td>-1.318872</td>\n",
       "      <td>0.063158</td>\n",
       "      <td>0.294737</td>\n",
       "      <td>4.67</td>\n",
       "      <td>64</td>\n",
       "    </tr>\n",
       "    <tr>\n",
       "      <th>1692</th>\n",
       "      <td>1693</td>\n",
       "      <td>집에 있는 시간이 많아진 요즘무료한 집콕생활을 달래줄 수 있는 취미하나 추천할려...</td>\n",
       "      <td>2</td>\n",
       "      <td>0</td>\n",
       "      <td>1.136364</td>\n",
       "      <td>0.586205</td>\n",
       "      <td>0.110837</td>\n",
       "      <td>0.298030</td>\n",
       "      <td>2.69</td>\n",
       "      <td>185</td>\n",
       "    </tr>\n",
       "  </tbody>\n",
       "</table>\n",
       "<p>1693 rows × 10 columns</p>\n",
       "</div>"
      ]
     },
     "metadata": {},
     "execution_count": 250
    }
   ],
   "metadata": {}
  },
  {
   "cell_type": "code",
   "execution_count": 251,
   "source": [
    "train_data.drop_duplicates(subset=['Post'], inplace=True) # document 열에서 중복인 내용이 있다면 중복 제거\r\n",
    "train_data['score'].value_counts().plot(kind = 'bar')"
   ],
   "outputs": [
    {
     "output_type": "execute_result",
     "data": {
      "text/plain": [
       "<AxesSubplot:>"
      ]
     },
     "metadata": {},
     "execution_count": 251
    },
    {
     "output_type": "display_data",
     "data": {
      "text/plain": [
       "<Figure size 432x288 with 1 Axes>"
      ],
      "image/png": "[encoded data removed]"
     },
     "metadata": {
      "needs_background": "light"
     }
    }
   ],
   "metadata": {}
  },
  {
   "cell_type": "code",
   "execution_count": 252,
   "source": [
    "target = train_data[['score']]\r\n",
    "target['score'] = np.where(target['score']>=3, 4, target['score'])\r\n",
    "target['score'] = np.where(target['score']<=1, 2, target['score'])\r\n",
    "target['score'] = np.where(target['score']==2, 0, target['score'])\r\n",
    "target['score'] = np.where(target['score']==4, 1, target['score'])\r\n",
    "target['score'].value_counts().plot(kind = 'bar')"
   ],
   "outputs": [
    {
     "output_type": "stream",
     "name": "stderr",
     "text": [
      "<ipython-input-252-0d18f4506655>:2: SettingWithCopyWarning: \n",
      "A value is trying to be set on a copy of a slice from a DataFrame.\n",
      "Try using .loc[row_indexer,col_indexer] = value instead\n",
      "\n",
      "See the caveats in the documentation: https://pandas.pydata.org/pandas-docs/stable/user_guide/indexing.html#returning-a-view-versus-a-copy\n",
      "  target['score'] = np.where(target['score']>=3, 4, target['score'])\n",
      "<ipython-input-252-0d18f4506655>:3: SettingWithCopyWarning: \n",
      "A value is trying to be set on a copy of a slice from a DataFrame.\n",
      "Try using .loc[row_indexer,col_indexer] = value instead\n",
      "\n",
      "See the caveats in the documentation: https://pandas.pydata.org/pandas-docs/stable/user_guide/indexing.html#returning-a-view-versus-a-copy\n",
      "  target['score'] = np.where(target['score']<=1, 2, target['score'])\n",
      "<ipython-input-252-0d18f4506655>:4: SettingWithCopyWarning: \n",
      "A value is trying to be set on a copy of a slice from a DataFrame.\n",
      "Try using .loc[row_indexer,col_indexer] = value instead\n",
      "\n",
      "See the caveats in the documentation: https://pandas.pydata.org/pandas-docs/stable/user_guide/indexing.html#returning-a-view-versus-a-copy\n",
      "  target['score'] = np.where(target['score']==2, 0, target['score'])\n",
      "<ipython-input-252-0d18f4506655>:5: SettingWithCopyWarning: \n",
      "A value is trying to be set on a copy of a slice from a DataFrame.\n",
      "Try using .loc[row_indexer,col_indexer] = value instead\n",
      "\n",
      "See the caveats in the documentation: https://pandas.pydata.org/pandas-docs/stable/user_guide/indexing.html#returning-a-view-versus-a-copy\n",
      "  target['score'] = np.where(target['score']==4, 1, target['score'])\n"
     ]
    },
    {
     "output_type": "execute_result",
     "data": {
      "text/plain": [
       "<AxesSubplot:>"
      ]
     },
     "metadata": {},
     "execution_count": 252
    },
    {
     "output_type": "display_data",
     "data": {
      "text/plain": [
       "<Figure size 432x288 with 1 Axes>"
      ],
      "image/png": "[encoded data removed]"
     },
     "metadata": {
      "needs_background": "light"
     }
    }
   ],
   "metadata": {}
  },
  {
   "cell_type": "code",
   "execution_count": 253,
   "source": [
    "print(train_data.isnull().values.any())"
   ],
   "outputs": [
    {
     "output_type": "stream",
     "name": "stdout",
     "text": [
      "False\n"
     ]
    }
   ],
   "metadata": {}
  },
  {
   "cell_type": "code",
   "execution_count": 254,
   "source": [
    "train_data['Post'] = train_data['Post'].str.replace(\"[^ㄱ-ㅎㅏ-ㅣ가-힣 ]\",\"\")"
   ],
   "outputs": [
    {
     "output_type": "stream",
     "name": "stderr",
     "text": [
      "<ipython-input-254-f2e5e28ae253>:1: FutureWarning: The default value of regex will change from True to False in a future version.\n",
      "  train_data['Post'] = train_data['Post'].str.replace(\"[^ㄱ-ㅎㅏ-ㅣ가-힣 ]\",\"\")\n"
     ]
    }
   ],
   "metadata": {}
  },
  {
   "cell_type": "code",
   "execution_count": 255,
   "source": [
    "stopwords = ['의','가','이','은','들','는','좀','잘','걍','과','도','를','으로','자','에','와','한','하다']\r\n",
    "okt=Mecab()\r\n",
    "\r\n",
    "X_train = []\r\n",
    "for sentence in train_data['Post']:\r\n",
    "    temp_X = okt.morphs(sentence) # 토큰화\r\n",
    "    temp_X = [word for word in temp_X if not word in stopwords if len(word)>1] # 불용어 제거\r\n",
    "    X_train.append(temp_X)"
   ],
   "outputs": [],
   "metadata": {}
  },
  {
   "cell_type": "code",
   "execution_count": 256,
   "source": [
    "tokenizer = Tokenizer()\r\n",
    "tokenizer.fit_on_texts(X_train)"
   ],
   "outputs": [],
   "metadata": {}
  },
  {
   "cell_type": "code",
   "execution_count": 257,
   "source": [
    "threshold = 3\r\n",
    "total_cnt = len(tokenizer.word_index) # 단어의 수\r\n",
    "rare_cnt = 0 # 등장 빈도수가 threshold보다 작은 단어의 개수를 카운트\r\n",
    "total_freq = 0 # 훈련 데이터의 전체 단어 빈도수 총 합\r\n",
    "rare_freq = 0 # 등장 빈도수가 threshold보다 작은 단어의 등장 빈도수의 총 합\r\n",
    "\r\n",
    "# 단어와 빈도수의 쌍(pair)을 key와 value로 받는다.\r\n",
    "for key, value in tokenizer.word_counts.items():\r\n",
    "    total_freq = total_freq + value\r\n",
    "\r\n",
    "    # 단어의 등장 빈도수가 threshold보다 작으면\r\n",
    "    if(value < threshold):\r\n",
    "        rare_cnt = rare_cnt + 1\r\n",
    "        rare_freq = rare_freq + value\r\n",
    "\r\n",
    "print('단어 집합(vocabulary)의 크기 :',total_cnt)\r\n",
    "print('등장 빈도가 %s번 이하인 희귀 단어의 수: %s'%(threshold - 1, rare_cnt))\r\n",
    "print(\"단어 집합에서 희귀 단어의 비율:\", (rare_cnt / total_cnt)*100)\r\n",
    "print(\"전체 등장 빈도에서 희귀 단어 등장 빈도 비율:\", (rare_freq / total_freq)*100)"
   ],
   "outputs": [
    {
     "output_type": "stream",
     "name": "stdout",
     "text": [
      "단어 집합(vocabulary)의 크기 : 21279\n",
      "등장 빈도가 2번 이하인 희귀 단어의 수: 11507\n",
      "단어 집합에서 희귀 단어의 비율: 54.07678932280652\n",
      "전체 등장 빈도에서 희귀 단어 등장 빈도 비율: 3.1045164381920554\n"
     ]
    }
   ],
   "metadata": {}
  },
  {
   "cell_type": "code",
   "execution_count": 258,
   "source": [
    "vocab_size = total_cnt - rare_cnt + 1\r\n",
    "print('단어 집합의 크기 :',vocab_size)"
   ],
   "outputs": [
    {
     "output_type": "stream",
     "name": "stdout",
     "text": [
      "단어 집합의 크기 : 9773\n"
     ]
    }
   ],
   "metadata": {}
  },
  {
   "cell_type": "code",
   "execution_count": 259,
   "source": [
    "tokenizer = Tokenizer(vocab_size)\r\n",
    "tokenizer.fit_on_texts(X_train)\r\n",
    "X_train = tokenizer.texts_to_sequences(X_train)"
   ],
   "outputs": [],
   "metadata": {}
  },
  {
   "cell_type": "code",
   "execution_count": 260,
   "source": [
    "y_train = np.asarray(target['score']).astype(float)\r\n",
    "print(y_train)"
   ],
   "outputs": [
    {
     "output_type": "stream",
     "name": "stdout",
     "text": [
      "[0. 0. 0. ... 1. 1. 0.]\n"
     ]
    }
   ],
   "metadata": {}
  },
  {
   "cell_type": "code",
   "execution_count": 261,
   "source": [
    "from sklearn.model_selection import train_test_split\r\n",
    "from keras.utils import np_utils\r\n",
    "\r\n",
    "# y_train = np_utils.to_categorical(y_train)\r\n",
    "\r\n",
    "X_train, X_test, y_train, y_test = train_test_split(X_train, y_train, test_size=0.2)\r\n",
    "print(y_train)"
   ],
   "outputs": [
    {
     "output_type": "stream",
     "name": "stdout",
     "text": [
      "[1. 1. 0. ... 0. 0. 1.]\n"
     ]
    }
   ],
   "metadata": {}
  },
  {
   "cell_type": "code",
   "execution_count": 262,
   "source": [
    "drop_train = [index for index, sentence in enumerate(X_train) if len(sentence) < 1]\r\n",
    "X_train = np.delete(X_train, drop_train, axis=0)\r\n",
    "y_train = np.delete(y_train, drop_train, axis=0)\r\n",
    "print(len(X_train))\r\n",
    "print(len(X_test))"
   ],
   "outputs": [
    {
     "output_type": "stream",
     "name": "stdout",
     "text": [
      "1341\n",
      "336\n"
     ]
    },
    {
     "output_type": "stream",
     "name": "stderr",
     "text": [
      "C:\\Users\\user\\anaconda3\\lib\\site-packages\\numpy\\core\\_asarray.py:83: VisibleDeprecationWarning: Creating an ndarray from ragged nested sequences (which is a list-or-tuple of lists-or-tuples-or ndarrays with different lengths or shapes) is deprecated. If you meant to do this, you must specify 'dtype=object' when creating the ndarray\n",
      "  return array(a, dtype, copy=False, order=order)\n"
     ]
    }
   ],
   "metadata": {}
  },
  {
   "cell_type": "code",
   "execution_count": 263,
   "source": [
    "def below_threshold_len(max_len, nested_list):\r\n",
    "    cnt = 0\r\n",
    "    for s in nested_list:\r\n",
    "        if(len(s) <= max_len):\r\n",
    "            cnt = cnt + 1\r\n",
    "    print('전체 샘플 중 길이가 %s 이하인 샘플의 비율: %s'%(max_len, (cnt / len(nested_list))*100))"
   ],
   "outputs": [],
   "metadata": {}
  },
  {
   "cell_type": "code",
   "execution_count": 264,
   "source": [
    "max_len = 700\r\n",
    "below_threshold_len(max_len, X_train)"
   ],
   "outputs": [
    {
     "output_type": "stream",
     "name": "stdout",
     "text": [
      "전체 샘플 중 길이가 700 이하인 샘플의 비율: 98.73228933631619\n"
     ]
    }
   ],
   "metadata": {}
  },
  {
   "cell_type": "code",
   "execution_count": 265,
   "source": [
    "print('리뷰의 최대 길이 :',max(len(l) for l in X_train))\r\n",
    "print('리뷰의 평균 길이 :',sum(map(len, X_train))/len(X_train))\r\n",
    "plt.hist([len(s) for s in X_train], bins=50)\r\n",
    "plt.xlabel('length of samples')\r\n",
    "plt.ylabel('number of samples')\r\n",
    "plt.show()"
   ],
   "outputs": [
    {
     "output_type": "stream",
     "name": "stdout",
     "text": [
      "리뷰의 최대 길이 : 1789\n",
      "리뷰의 평균 길이 : 273.0141685309471\n"
     ]
    },
    {
     "output_type": "display_data",
     "data": {
      "text/plain": [
       "<Figure size 432x288 with 1 Axes>"
      ],
      "image/png": "[encoded data removed]"
     },
     "metadata": {
      "needs_background": "light"
     }
    }
   ],
   "metadata": {}
  },
  {
   "cell_type": "code",
   "execution_count": 266,
   "source": [
    "X_train = pad_sequences(X_train, maxlen = max_len)\r\n",
    "X_test = pad_sequences(X_test, maxlen = max_len)"
   ],
   "outputs": [],
   "metadata": {}
  },
  {
   "cell_type": "code",
   "execution_count": 267,
   "source": [
    "from tensorflow.keras.layers import Embedding, Dense, LSTM\r\n",
    "from tensorflow.keras.models import Sequential\r\n",
    "from tensorflow.keras.models import load_model\r\n",
    "from tensorflow.keras.callbacks import EarlyStopping, ModelCheckpoint"
   ],
   "outputs": [],
   "metadata": {}
  },
  {
   "cell_type": "code",
   "execution_count": 268,
   "source": [
    "model = Sequential()\r\n",
    "model.add(Embedding(vocab_size, 128))\r\n",
    "model.add(LSTM(128))\r\n",
    "model.add(Dense(1, activation='sigmoid'))"
   ],
   "outputs": [],
   "metadata": {}
  },
  {
   "cell_type": "code",
   "execution_count": 269,
   "source": [
    "es = EarlyStopping(monitor='val_loss', mode='min', verbose=1, patience=4)\r\n",
    "mc = ModelCheckpoint('best_model.h5', monitor='val_loss', mode='min', save_best_only=True,verbose=1)"
   ],
   "outputs": [],
   "metadata": {}
  },
  {
   "cell_type": "code",
   "execution_count": 270,
   "source": [
    "model.compile(optimizer='rmsprop', loss='binary_crossentropy', metrics=['acc'])\r\n",
    "history = model.fit(X_train, y_train, epochs=10, callbacks=[es, mc], batch_size=3, validation_split=0.3) #callbacks=[es, mc],"
   ],
   "outputs": [
    {
     "output_type": "stream",
     "name": "stdout",
     "text": [
      "Epoch 1/10\n",
      "313/313 [==============================] - 107s 334ms/step - loss: 0.6176 - acc: 0.6930 - val_loss: 0.5609 - val_acc: 0.7122\n",
      "\n",
      "Epoch 00001: val_loss improved from inf to 0.56093, saving model to best_model.h5\n",
      "Epoch 2/10\n",
      "313/313 [==============================] - 101s 323ms/step - loss: 0.4639 - acc: 0.8006 - val_loss: 0.5830 - val_acc: 0.7146\n",
      "\n",
      "Epoch 00002: val_loss did not improve from 0.56093\n",
      "Epoch 3/10\n",
      "313/313 [==============================] - 100s 320ms/step - loss: 0.3614 - acc: 0.8678 - val_loss: 0.7159 - val_acc: 0.7146\n",
      "\n",
      "Epoch 00003: val_loss did not improve from 0.56093\n",
      "Epoch 4/10\n",
      "313/313 [==============================] - 99s 317ms/step - loss: 0.3443 - acc: 0.8785 - val_loss: 0.8201 - val_acc: 0.6625\n",
      "\n",
      "Epoch 00004: val_loss did not improve from 0.56093\n",
      "Epoch 5/10\n",
      "313/313 [==============================] - 99s 316ms/step - loss: 0.2264 - acc: 0.9254 - val_loss: 0.7996 - val_acc: 0.6873\n",
      "\n",
      "Epoch 00005: val_loss did not improve from 0.56093\n",
      "Epoch 00005: early stopping\n"
     ]
    }
   ],
   "metadata": {}
  },
  {
   "cell_type": "code",
   "execution_count": 271,
   "source": [
    "loaded_model = load_model('best_model.h5')\r\n",
    "print(\"\\n 테스트 정확도: %.4f\" % (loaded_model.evaluate(X_test, y_test)[1]))"
   ],
   "outputs": [
    {
     "output_type": "stream",
     "name": "stdout",
     "text": [
      "11/11 [==============================] - 3s 195ms/step - loss: 0.6366 - acc: 0.6488\n",
      "\n",
      " 테스트 정확도: 0.6488\n"
     ]
    }
   ],
   "metadata": {}
  }
 ],
 "metadata": {
  "orig_nbformat": 4,
  "language_info": {
   "name": "python",
   "version": "3.8.8",
   "mimetype": "text/x-python",
   "codemirror_mode": {
    "name": "ipython",
    "version": 3
   },
   "pygments_lexer": "ipython3",
   "nbconvert_exporter": "python",
   "file_extension": ".py"
  },
  "kernelspec": {
   "name": "python3",
   "display_name": "Python 3.8.8 64-bit ('base': conda)"
  },
  "interpreter": {
   "hash": "6d46af94c2bbce495f1e668725902fa517c90b1782bcfe2fce0dd9868df553d3"
  }
 },
 "nbformat": 4,
 "nbformat_minor": 2
}